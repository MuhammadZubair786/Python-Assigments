{
 "cells": [
  {
   "cell_type": "code",
   "execution_count": 1,
   "metadata": {},
   "outputs": [
    {
     "name": "stdout",
     "output_type": "stream",
     "text": [
      "The SUM OF ALL NUMERIC VALUE IN THE LIST IS: 18\n"
     ]
    }
   ],
   "source": [
    "l=[\"Muhammad\",1,\"Zubair\",3,2,\"Minhas\",3,4,\"asad\",5,]\n",
    "add=0\n",
    "for i in range(0,len(l)):\n",
    "    if(type(l[i])==int):\n",
    "        add=add+l[i]\n",
    "print(\"The SUM OF ALL NUMERIC VALUE IN THE LIST IS:\",add)\n",
    "        \n",
    "    \n"
   ]
  },
  {
   "cell_type": "code",
   "execution_count": null,
   "metadata": {},
   "outputs": [],
   "source": []
  }
 ],
 "metadata": {
  "kernelspec": {
   "display_name": "Python 3",
   "language": "python",
   "name": "python3"
  },
  "language_info": {
   "codemirror_mode": {
    "name": "ipython",
    "version": 3
   },
   "file_extension": ".py",
   "mimetype": "text/x-python",
   "name": "python",
   "nbconvert_exporter": "python",
   "pygments_lexer": "ipython3",
   "version": "3.7.4"
  }
 },
 "nbformat": 4,
 "nbformat_minor": 2
}
