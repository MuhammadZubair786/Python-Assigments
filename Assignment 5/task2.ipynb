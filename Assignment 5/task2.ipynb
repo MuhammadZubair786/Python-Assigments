{
 "cells": [
  {
   "cell_type": "code",
   "execution_count": 1,
   "metadata": {},
   "outputs": [
    {
     "name": "stdout",
     "output_type": "stream",
     "text": [
      "Enter Any String :Muhammad Zubair Minhas\n",
      "Lower case characters = 17 \n",
      "Upper case characters = 3\n"
     ]
    }
   ],
   "source": [
    "def upperlower(string): \n",
    "    upper = 0\n",
    "    lower = 0\n",
    "    for i in range(len(string)): \n",
    "        if (ord(string[i]) >= 97 and ord(string[i]) <= 122): \n",
    "                lower += 1\n",
    "        elif (ord(string[i]) >= 65 and ord(string[i]) <= 90): \n",
    "                upper += 1\n",
    "      \n",
    "    print('Lower case characters = %s' %lower, '\\nUpper case characters = %s' %upper) \n",
    "      \n",
    "\n",
    "string = input(\"Enter Any String :\")\n",
    "upperlower(string) \n"
   ]
  },
  {
   "cell_type": "code",
   "execution_count": null,
   "metadata": {},
   "outputs": [],
   "source": []
  }
 ],
 "metadata": {
  "kernelspec": {
   "display_name": "Python 3",
   "language": "python",
   "name": "python3"
  },
  "language_info": {
   "codemirror_mode": {
    "name": "ipython",
    "version": 3
   },
   "file_extension": ".py",
   "mimetype": "text/x-python",
   "name": "python",
   "nbconvert_exporter": "python",
   "pygments_lexer": "ipython3",
   "version": "3.7.4"
  }
 },
 "nbformat": 4,
 "nbformat_minor": 2
}
