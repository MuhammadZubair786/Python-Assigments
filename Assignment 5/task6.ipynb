{
 "cells": [
  {
   "cell_type": "code",
   "execution_count": 1,
   "metadata": {},
   "outputs": [
    {
     "name": "stdout",
     "output_type": "stream",
     "text": [
      "Type exit if you have done Shopping.\n",
      "Enter  1  Item\n",
      "Shoes\n",
      "Enter  2  Item\n",
      "TV\n",
      "Enter  3  Item\n",
      "Medincine\n",
      "Enter  4  Item\n",
      "Chair\n",
      "Enter  5  Item\n",
      "Brush\n",
      "Enter  6  Item\n",
      "exit\n",
      "The Items you bought are :  ['Shoes', 'TV', 'Medincine', 'Chair', 'Brush']\n"
     ]
    }
   ],
   "source": [
    "def BoughtItems(boughted_items):\n",
    "    print(\"The Items you bought are : \",boughted_items)\n",
    "\n",
    "items = []\n",
    "i = 1\n",
    "start = True\n",
    "\n",
    "print(\"Type exit if you have done Shopping.\")\n",
    "while start:\n",
    "    print(\"Enter \",i,\" Item\")\n",
    "    bought_item = input()\n",
    "    if bought_item == 'exit':\n",
    "        break\n",
    "    else:\n",
    "        items.append(bought_item)\n",
    "        i = i + 1\n",
    "        \n",
    "BoughtItems(items)\n"
   ]
  },
  {
   "cell_type": "code",
   "execution_count": null,
   "metadata": {},
   "outputs": [],
   "source": []
  }
 ],
 "metadata": {
  "kernelspec": {
   "display_name": "Python 3",
   "language": "python",
   "name": "python3"
  },
  "language_info": {
   "codemirror_mode": {
    "name": "ipython",
    "version": 3
   },
   "file_extension": ".py",
   "mimetype": "text/x-python",
   "name": "python",
   "nbconvert_exporter": "python",
   "pygments_lexer": "ipython3",
   "version": "3.7.4"
  }
 },
 "nbformat": 4,
 "nbformat_minor": 2
}
