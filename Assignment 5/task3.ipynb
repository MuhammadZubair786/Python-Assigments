{
 "cells": [
  {
   "cell_type": "code",
   "execution_count": 2,
   "metadata": {},
   "outputs": [
    {
     "name": "stdout",
     "output_type": "stream",
     "text": [
      "[2, 4, 6, 8, 10, 12, 44, 56, 78]\n"
     ]
    }
   ],
   "source": [
    "def func(n):\n",
    "    L2=[]\n",
    "    for i in range(0,n):\n",
    "        if(ListName[i]%2==0):\n",
    "            L2.append(ListName[i])\n",
    "    return L2\n",
    "             \n",
    "            \n",
    "\n",
    "ListName = [ 1, 2, 3, 4, 5, 6,8,10,12,33,44,56,78,3,89,87]\n",
    "n=len(ListName)\n",
    "print(func(n))"
   ]
  },
  {
   "cell_type": "code",
   "execution_count": null,
   "metadata": {},
   "outputs": [],
   "source": []
  }
 ],
 "metadata": {
  "kernelspec": {
   "display_name": "Python 3",
   "language": "python",
   "name": "python3"
  },
  "language_info": {
   "codemirror_mode": {
    "name": "ipython",
    "version": 3
   },
   "file_extension": ".py",
   "mimetype": "text/x-python",
   "name": "python",
   "nbconvert_exporter": "python",
   "pygments_lexer": "ipython3",
   "version": "3.7.4"
  }
 },
 "nbformat": 4,
 "nbformat_minor": 2
}
