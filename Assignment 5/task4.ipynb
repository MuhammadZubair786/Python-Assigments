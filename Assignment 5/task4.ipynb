{
 "cells": [
  {
   "cell_type": "code",
   "execution_count": 2,
   "metadata": {},
   "outputs": [
    {
     "name": "stdout",
     "output_type": "stream",
     "text": [
      "Enter a String :MADAM\n",
      "Your String Is Palindrome\n"
     ]
    }
   ],
   "source": [
    "def fun(enter):\n",
    "    a=enter[::-1]\n",
    "\n",
    "    if(enter==a):\n",
    "        return (\"Your String Is Palindrome\")\n",
    "    else:\n",
    "        return (\"Your String Is Not Palindrome\")\n",
    "    \n",
    "enter=input(\"Enter a String :\")\n",
    "print(fun(enter))"
   ]
  },
  {
   "cell_type": "code",
   "execution_count": null,
   "metadata": {},
   "outputs": [],
   "source": []
  }
 ],
 "metadata": {
  "kernelspec": {
   "display_name": "Python 3",
   "language": "python",
   "name": "python3"
  },
  "language_info": {
   "codemirror_mode": {
    "name": "ipython",
    "version": 3
   },
   "file_extension": ".py",
   "mimetype": "text/x-python",
   "name": "python",
   "nbconvert_exporter": "python",
   "pygments_lexer": "ipython3",
   "version": "3.7.4"
  }
 },
 "nbformat": 4,
 "nbformat_minor": 2
}
