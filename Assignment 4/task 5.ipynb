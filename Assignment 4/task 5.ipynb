{
 "cells": [
  {
   "cell_type": "code",
   "execution_count": 1,
   "metadata": {},
   "outputs": [
    {
     "name": "stdout",
     "output_type": "stream",
     "text": [
      "Guess the Number Between (1 - 30) :- 4\n",
      "You Entered Smaller number\n",
      "Guess the Number Between (1 - 30) :- 2\n",
      "You Entered Smaller number\n",
      "Guess the Number Between (1 - 30) :- 10\n",
      "You Entered Smaller number\n",
      "Random Number is :-  14\n",
      "Enter Y/y to Play Game again or N/n to Quit Game :- Y\n",
      "Guess the Number Between (1 - 30) :- 45\n",
      "You Entered Greater number\n",
      "Guess the Number Between (1 - 30) :- 32\n",
      "You Entered Greater number\n",
      "Guess the Number Between (1 - 30) :- 20\n",
      "You Entered Greater number\n",
      "Random Number is :-  7\n",
      "Enter Y/y to Play Game again or N/n to Quit Game :- N\n"
     ]
    }
   ],
   "source": [
    "import random\n",
    "\n",
    "start = True\n",
    "while(start): \n",
    "    i = random.randint(1,30)\n",
    "    chances = 3\n",
    "    while(chances != 0):\n",
    "        num = int(input(\"Guess the Number Between (1 - 30) :- \"))\n",
    "        if (num == i):\n",
    "            print(\"You Guessed Correct Number\")\n",
    "            chances = 0\n",
    "        elif (num > i):\n",
    "            print(\"You Entered Greater number\")\n",
    "            chances = chances - 1\n",
    "        elif (num < i):\n",
    "            print(\"You Entered Smaller number\")\n",
    "            chances = chances - 1\n",
    "    \n",
    "    print(\"Random Number is :- \",i)\n",
    "    choice = str(input(\"Enter Y/y to Play Game again or N/n to Quit Game :- \"))\n",
    "    if(choice == \"Y\" or choice == \"y\"):\n",
    "        start = True\n",
    "    elif(choice == \"N\" or choice == \"n\"):\n",
    "        start = False\n",
    "    else:\n",
    "        print(\"You Entered Wrong Choice so Game will be begun again ☻\")\n",
    "        start = True\n"
   ]
  },
  {
   "cell_type": "code",
   "execution_count": null,
   "metadata": {},
   "outputs": [],
   "source": []
  }
 ],
 "metadata": {
  "kernelspec": {
   "display_name": "Python 3",
   "language": "python",
   "name": "python3"
  },
  "language_info": {
   "codemirror_mode": {
    "name": "ipython",
    "version": 3
   },
   "file_extension": ".py",
   "mimetype": "text/x-python",
   "name": "python",
   "nbconvert_exporter": "python",
   "pygments_lexer": "ipython3",
   "version": "3.7.4"
  }
 },
 "nbformat": 4,
 "nbformat_minor": 2
}
