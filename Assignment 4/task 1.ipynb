{
 "cells": [
  {
   "cell_type": "code",
   "execution_count": 1,
   "metadata": {},
   "outputs": [
    {
     "name": "stdout",
     "output_type": "stream",
     "text": [
      "Enter First name Of person :- zubair\n",
      "Enter Last name Of person :- minhas\n",
      "Enter age Of person :- 19\n",
      "Enter the city Of person :- hyd\n",
      "\n",
      " Person Info Without Qualification Key/Value.\n",
      "\n",
      "{'first_name': 'zubair', 'last_name': 'minhas', 'age': 19, 'city': 'hyd'} \n",
      "\n",
      " Person Info including Qualification Key/Value before Updating.\n",
      "\n",
      "{'first_name': 'zubair', 'last_name': 'minhas', 'age': 19, 'city': 'hyd', 'qualification': 'Graduate'} \n",
      "\n",
      " Person Info After Updating Qualification key.\n",
      "\n",
      "{'first_name': 'zubair', 'last_name': 'minhas', 'age': 19, 'city': 'hyd', 'qualification': 'high academic level'} \n",
      "\n",
      " Person Info After Deleting Qualification Key.\n",
      "\n",
      "{'first_name': 'zubair', 'last_name': 'minhas', 'age': 19, 'city': 'hyd'}\n"
     ]
    }
   ],
   "source": [
    "person_info = {\"first_name\": str(input(\"Enter First name Of person :- \")),\n",
    "               \"last_name\" : str(input(\"Enter Last name Of person :- \")),\n",
    "               \"age\": int(input(\"Enter age Of person :- \")),\n",
    "               \"city\": str(input(\"Enter the city Of person :- \"))\n",
    "               }\n",
    "print(\"\\n Person Info Without Qualification Key/Value.\\n\")\n",
    "print(person_info,\"\\n\")\n",
    "\n",
    "person_info[\"qualification\"] = \"Graduate\"\n",
    "print(\" Person Info including Qualification Key/Value before Updating.\\n\")\n",
    "print(person_info,\"\\n\")\n",
    "\n",
    "qualification = {\"qualification\" : \"high academic level\"}\n",
    "person_info.update(qualification)\n",
    "print(\" Person Info After Updating Qualification key.\\n\")\n",
    "print(person_info,\"\\n\")\n",
    "\n",
    "\n",
    "del person_info[\"qualification\"]\n",
    "print(\" Person Info After Deleting Qualification Key.\\n\")\n",
    "print(person_info)\n"
   ]
  },
  {
   "cell_type": "code",
   "execution_count": null,
   "metadata": {},
   "outputs": [],
   "source": []
  }
 ],
 "metadata": {
  "kernelspec": {
   "display_name": "Python 3",
   "language": "python",
   "name": "python3"
  },
  "language_info": {
   "codemirror_mode": {
    "name": "ipython",
    "version": 3
   },
   "file_extension": ".py",
   "mimetype": "text/x-python",
   "name": "python",
   "nbconvert_exporter": "python",
   "pygments_lexer": "ipython3",
   "version": "3.7.4"
  }
 },
 "nbformat": 4,
 "nbformat_minor": 2
}
