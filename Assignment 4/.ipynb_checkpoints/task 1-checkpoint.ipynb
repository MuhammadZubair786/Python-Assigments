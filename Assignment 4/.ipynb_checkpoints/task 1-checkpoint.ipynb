{
 "cells": [
  {
   "cell_type": "code",
   "execution_count": 1,
   "metadata": {},
   "outputs": [
    {
     "name": "stdout",
     "output_type": "stream",
     "text": [
      "{'First_Name': 'Muhammad Zubair', 'Last_Name ': 'Minhas', 'Age': '20', 'Gender': 'Male', 'city': 'Hyderabad'}\n",
      "{'First_Name': 'Muhammad Zubair', 'Last_Name ': 'Minhas', 'Age': '20', 'Gender': 'Male', 'city': 'Hyderabad', 'Education': 'BSCS'}\n",
      "Dictationaries Delete Item  BSCS\n",
      "{'First_Name': 'Muhammad Zubair', 'Last_Name ': 'Minhas', 'Age': '20', 'Gender': 'Male', 'city': 'Hyderabad'}\n"
     ]
    }
   ],
   "source": [
    "std_data ={\n",
    "    'First_Name' : 'Muhammad Zubair' ,\n",
    "    'Last_Name ' : 'Minhas',\n",
    "    'Age' : '20',\n",
    "    'Gender': 'Male',\n",
    "    'city': 'Hyderabad'\n",
    "    }\n",
    "print(std_data)\n",
    "\n",
    "std_data[\"Education\"]=\"BSCS\"\n",
    "print(std_data)\n",
    "\n",
    "a=std_data.pop(\"Education\")\n",
    "print(\"Dictationaries Delete Item \",a)\n",
    "print(std_data)\n"
   ]
  },
  {
   "cell_type": "code",
   "execution_count": null,
   "metadata": {},
   "outputs": [],
   "source": []
  },
  {
   "cell_type": "code",
   "execution_count": null,
   "metadata": {},
   "outputs": [],
   "source": []
  }
 ],
 "metadata": {
  "kernelspec": {
   "display_name": "Python 3",
   "language": "python",
   "name": "python3"
  },
  "language_info": {
   "codemirror_mode": {
    "name": "ipython",
    "version": 3
   },
   "file_extension": ".py",
   "mimetype": "text/x-python",
   "name": "python",
   "nbconvert_exporter": "python",
   "pygments_lexer": "ipython3",
   "version": "3.7.4"
  }
 },
 "nbformat": 4,
 "nbformat_minor": 2
}
