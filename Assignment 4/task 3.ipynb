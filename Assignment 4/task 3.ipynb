{
 "cells": [
  {
   "cell_type": "code",
   "execution_count": 2,
   "metadata": {},
   "outputs": [
    {
     "name": "stdout",
     "output_type": "stream",
     "text": [
      "Enter the age of person :- 4\n",
      "Your ticket Price is :- $ 10\n",
      "Enter Y/y to Start Program again and N/n to close the program :- Y\n",
      "Enter the age of person :- 23\n",
      "Your ticket Price is :- $ 15\n",
      "Enter Y/y to Start Program again and N/n to close the program :- Y\n",
      "Enter the age of person :- 1\n",
      "Your ticket Price is :-  free\n",
      "Enter Y/y to Start Program again and N/n to close the program :- N\n"
     ]
    }
   ],
   "source": [
    "start = True\n",
    "while(start):\n",
    "\n",
    "    age = int(input(\"Enter the age of person :- \"))\n",
    "\n",
    "    if (age < 1):\n",
    "        print(\"You entered wrong input.\")\n",
    "    elif (age < 3 and age >= 1):\n",
    "        ticket = \"free\"\n",
    "        print(\"Your ticket Price is :- \",ticket)\n",
    "    elif (age >= 3 and age <= 12):\n",
    "        ticket = 10\n",
    "        print(\"Your ticket Price is :- $\",ticket)\n",
    "    else:\n",
    "        ticket = 15\n",
    "        print(\"Your ticket Price is :- $\",ticket)\n",
    "        \n",
    "    end = str(input(\"Enter Y/y to Start Program again and N/n to close the program :- \"))\n",
    "\n",
    "    if (end == \"Y\" or end == \"y\"):\n",
    "        start = True\n",
    "    elif (end == \"N\" or end == \"n\"):\n",
    "        start = False\n",
    "    else:\n",
    "        print(\"You didn't select any of the option from the above,so program will be run again. :P\")\n",
    "        start = True\n",
    "        \n"
   ]
  },
  {
   "cell_type": "code",
   "execution_count": null,
   "metadata": {},
   "outputs": [],
   "source": []
  }
 ],
 "metadata": {
  "kernelspec": {
   "display_name": "Python 3",
   "language": "python",
   "name": "python3"
  },
  "language_info": {
   "codemirror_mode": {
    "name": "ipython",
    "version": 3
   },
   "file_extension": ".py",
   "mimetype": "text/x-python",
   "name": "python",
   "nbconvert_exporter": "python",
   "pygments_lexer": "ipython3",
   "version": "3.7.4"
  }
 },
 "nbformat": 4,
 "nbformat_minor": 2
}
