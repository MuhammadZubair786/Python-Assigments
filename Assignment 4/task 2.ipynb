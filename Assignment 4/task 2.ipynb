{
 "cells": [
  {
   "cell_type": "code",
   "execution_count": 1,
   "metadata": {},
   "outputs": [
    {
     "name": "stdout",
     "output_type": "stream",
     "text": [
      "1 City Details \n",
      "\n",
      "Lahore {'Country': 'Pakistan', 'Population': 233916, 'Fact ': 'The city is located in the north east part of Punjab province, near the border with India.'} \n",
      "\n",
      "2 City Details \n",
      "\n",
      "Hyderabad {'Country': 'Pakistan', 'Population': 1732693, 'Fact': 'The city is famous for its winds which moderate the otherwise hot climate.'} \n",
      "\n",
      "3 City Details \n",
      "\n",
      "Karachi {'Country': 'Pakistan', 'Population': 15741000, 'Fact': 'There are plenty of things to do in Karachi from the beaches to the best local sights, from great food to the soothing environment.'} \n",
      "\n"
     ]
    }
   ],
   "source": [
    "cities = {\n",
    "    \"Lahore\": {\n",
    "            \"Country\" : \"Pakistan\",\n",
    "            \"Population\" :  233916,\n",
    "            \"Fact \" : \"The city is located in the north east part of Punjab province, near the border with India.\",\n",
    "            },\n",
    "    \n",
    "    \"Hyderabad\": {\n",
    "            \"Country\" : \"Pakistan\",\n",
    "            \"Population\" : 1732693,\n",
    "            \"Fact\" : \"The city is famous for its winds which moderate the otherwise hot climate.\"\n",
    "            },\n",
    "    \n",
    "    \"Karachi\": {\n",
    "            \"Country\" : \"Pakistan\",\n",
    "            \"Population\" : 15741000,\n",
    "            \"Fact\" : \"There are plenty of things to do in Karachi from the beaches to the best local sights, from great food to the soothing environment.\"\n",
    "            }\n",
    "         }\n",
    "i = 1\n",
    "\n",
    "for key, value in cities.items():    \n",
    "    print(i,\"City Details \\n\")\n",
    "    print(key,value,\"\\n\")\n",
    "    i = i + 1\n"
   ]
  },
  {
   "cell_type": "code",
   "execution_count": null,
   "metadata": {},
   "outputs": [],
   "source": []
  }
 ],
 "metadata": {
  "kernelspec": {
   "display_name": "Python 3",
   "language": "python",
   "name": "python3"
  },
  "language_info": {
   "codemirror_mode": {
    "name": "ipython",
    "version": 3
   },
   "file_extension": ".py",
   "mimetype": "text/x-python",
   "name": "python",
   "nbconvert_exporter": "python",
   "pygments_lexer": "ipython3",
   "version": "3.7.4"
  }
 },
 "nbformat": 4,
 "nbformat_minor": 2
}
