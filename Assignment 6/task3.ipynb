{
 "cells": [
  {
   "cell_type": "markdown",
   "metadata": {},
   "source": [
    "# Q NO 3\n",
    "# Method and a function are the same, with different terms. A method is a procedure or function in object-oriented programming.\n",
    "# A function is a group of reusable code which can be called anywhere in your program. This eliminates the need for writing the same code again and again. It helps programmers in writing modular codes.\n",
    "# \n",
    "# 1.\tMethod is called by its name, but it is associated to an object (dependent).\n",
    "# 2.\tA method is implicitly passed the object on which it is invoked.\n",
    "# 3.\tIt may or may not return any data.\n",
    "# 4.\tA method can operate on the data (instance variables) that is contained by the corresponding class\n",
    "\n",
    "# 1.\tFunction is block of code that is also called by its name. (independent)\n",
    "# 2.\tThe function can have different parameters or may not have any at all. If any data (parameters) are passed, they are passed explicitly.\n",
    "# 3.\tIt may or may not return any data.\n",
    "# 4.\tFunction does not deal with Class and its instance concept.\n",
    "\n"
   ]
  },
  {
   "cell_type": "code",
   "execution_count": null,
   "metadata": {},
   "outputs": [],
   "source": []
  }
 ],
 "metadata": {
  "kernelspec": {
   "display_name": "Python 3",
   "language": "python",
   "name": "python3"
  },
  "language_info": {
   "codemirror_mode": {
    "name": "ipython",
    "version": 3
   },
   "file_extension": ".py",
   "mimetype": "text/x-python",
   "name": "python",
   "nbconvert_exporter": "python",
   "pygments_lexer": "ipython3",
   "version": "3.7.4"
  }
 },
 "nbformat": 4,
 "nbformat_minor": 2
}
